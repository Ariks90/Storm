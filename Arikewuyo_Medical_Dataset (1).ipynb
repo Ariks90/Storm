{
 "cells": [
  {
   "cell_type": "markdown",
   "metadata": {},
   "source": [
    "# Project: Brazil's Medical Appointment Data Analysis \n",
    "\n",
    "## Table of Contents\n",
    "<ul>\n",
    "<li><a href=\"#intro\">Introduction</a></li>\n",
    "<li><a href=\"#wrangling\">Data Wrangling</a></li>\n",
    "<li><a href=\"#eda\">Exploratory Data Analysis</a></li>\n",
    "<li><a href=\"#conclusions\">Conclusions</a></li>\n",
    "</ul>"
   ]
  },
  {
   "cell_type": "markdown",
   "metadata": {},
   "source": [
    "<a id='intro'></a>\n",
    "## Introduction\n",
    "\n",
    "### Dataset Description \n",
    "\n",
    "> The Medical Appointment Data is based on information from a hundred thousand (100,000) medical appointments in Brazil and is focused on determining whether or not patients show up for their appointment. Specific details and characteristics are included for each patient, under different headers or columns. These columns are:\n",
    "\n",
    ">● 01 - PatientId - Identification of a patient\n",
    "\n",
    ">● 02 - AppointmentID - Identification of each appointment\n",
    "\n",
    ">● 03 - Gender - Male or Female.\n",
    "\n",
    ">● 04 - ScheduledDay - The day the patient booked or set up the appointment.\n",
    "   \n",
    ">● 05 - AppointmentDay - The day of the actual appointment, when they have to visit the doctor.\n",
    "  \n",
    ">● 06 - Age - The age of the patient.\n",
    "   \n",
    ">● 07 - Neighbourhood - this is the location of the hospital.\n",
    "\n",
    ">● 08 - Scholarship - True or False. True = 1 means that they took part in the Brasilian welfare program Bolsa Família; False = 0 means that they did not take part in the Brasilian welfare program Bolsa Família. View added information [here]('https://en.wikipedia.org/wiki/Bolsa_Fam%C3%ADlia').\n",
    "\n",
    ">● 09 - Hipertension - True or False. True = 1 means that they had hypertension; False = 0 means that they did not have hypertension.\n",
    "\n",
    ">● 10 - Diabetes - True or False. True = 1 means that they had Daibetes; False = 0 means that they did not have Diabetes.\n",
    "\n",
    ">● 11 - Alcoholism - True or False. True = 1 means that they had problems of Alcoholism; False = 0 means that they did not have problems of Alcoholism.\n",
    "\n",
    ">● 12 - Handcap - True or False. True = 1 or above means that they were handicap, the value determining the different diabilities they have (eg, eye impairment, crippled, etc); False = 0 means that they were not handicap. View added information [here]('https://www.kaggle.com/datasets/joniarroba/noshowappointments/discussion/29699#229356')\n",
    "\n",
    ">● 13 - SMS_received - 1 means the patient received SMS; 0 means the patient did not receive any SMS.\n",
    "\n",
    ">● 14 - No-show - Yes or No. According to original encoding, Yes means that they did not show up for the appointment and No means that they showed up for the appointment. this will be converted, so that 1 would mean they showed up, and 0 would mean that they didn't show up.\n",
    "\n",
    "\n",
    "### Question(s) for Analysis\n",
    "> Below are the questions that would be addressed over the course of the project report. The questions were derived after a critical view of the data set, as well as the available data attributed to the patient in relation to their appointments.\n",
    "\n",
    ">**Question 1**: What is the relationship between the ages of the patients and their appointments?\n",
    "\n",
    ">**Question 2**: What is the relationship between the gender of the patients and their appointments?\n",
    "\n",
    ">**Question 3**: Is the location of the hospital associated with the appointment?\n",
    "\n",
    ">**Question 4**: Do patients tend to miss their appointment when they don't receive reminders from the hospital?\n",
    "\n",
    ">**Question 5**: Are patients liable to miss their appointments if they are not part of the welfare program (Bolsa Familia Scholarship)?\n",
    "\n",
    ">**Question 6**: Is there a relationship between the patient's appointment day and them showing up for their appointments?\n",
    "\n",
    ">**Question 7**: What is the relationship between the patient's ailment and the appointments?\n",
    "\n",
    "> **Tip**: Once you start coding, use NumPy arrays, Pandas Series, and DataFrames where appropriate rather than Python lists and dictionaries. Also, **use good coding practices**, such as, define and use functions to avoid repetitive code. Use appropriate comments within the code cells, explanation in the mark-down cells, and meaningful variable names. "
   ]
  },
  {
   "cell_type": "code",
   "execution_count": 1,
   "metadata": {},
   "outputs": [],
   "source": [
    "# For this project, I will be using NumPy, Pandas and MatPlotLib frameworks to wrangle and explore my dataset, as well as\n",
    "# for aided visualisations of the results.\n",
    "import numpy as np\n",
    "import pandas as pd\n",
    "import matplotlib.pyplot as plt\n",
    "import seaborn as sns\n",
    "\n",
    "% matplotlib inline"
   ]
  },
  {
   "cell_type": "markdown",
   "metadata": {},
   "source": [
    "<a id='wrangling'></a>\n",
    "## Data Wrangling\n",
    "\n",
    "> The data set is loaded and various checks involving the dataframe, including the shape, information on it datatypes, null values as well as the summary statistics are carried out. the first few rows of the data frame is ran, to give an idea of how the dataframe is set up."
   ]
  },
  {
   "cell_type": "code",
   "execution_count": 2,
   "metadata": {},
   "outputs": [
    {
     "data": {
      "text/html": [
       "<div>\n",
       "<style scoped>\n",
       "    .dataframe tbody tr th:only-of-type {\n",
       "        vertical-align: middle;\n",
       "    }\n",
       "\n",
       "    .dataframe tbody tr th {\n",
       "        vertical-align: top;\n",
       "    }\n",
       "\n",
       "    .dataframe thead th {\n",
       "        text-align: right;\n",
       "    }\n",
       "</style>\n",
       "<table border=\"1\" class=\"dataframe\">\n",
       "  <thead>\n",
       "    <tr style=\"text-align: right;\">\n",
       "      <th></th>\n",
       "      <th>PatientId</th>\n",
       "      <th>AppointmentID</th>\n",
       "      <th>Gender</th>\n",
       "      <th>ScheduledDay</th>\n",
       "      <th>AppointmentDay</th>\n",
       "      <th>Age</th>\n",
       "      <th>Neighbourhood</th>\n",
       "      <th>Scholarship</th>\n",
       "      <th>Hipertension</th>\n",
       "      <th>Diabetes</th>\n",
       "      <th>Alcoholism</th>\n",
       "      <th>Handcap</th>\n",
       "      <th>SMS_received</th>\n",
       "      <th>No-show</th>\n",
       "    </tr>\n",
       "  </thead>\n",
       "  <tbody>\n",
       "    <tr>\n",
       "      <th>0</th>\n",
       "      <td>2.987250e+13</td>\n",
       "      <td>5642903</td>\n",
       "      <td>F</td>\n",
       "      <td>2016-04-29T18:38:08Z</td>\n",
       "      <td>2016-04-29T00:00:00Z</td>\n",
       "      <td>62</td>\n",
       "      <td>JARDIM DA PENHA</td>\n",
       "      <td>0</td>\n",
       "      <td>1</td>\n",
       "      <td>0</td>\n",
       "      <td>0</td>\n",
       "      <td>0</td>\n",
       "      <td>0</td>\n",
       "      <td>No</td>\n",
       "    </tr>\n",
       "    <tr>\n",
       "      <th>1</th>\n",
       "      <td>5.589978e+14</td>\n",
       "      <td>5642503</td>\n",
       "      <td>M</td>\n",
       "      <td>2016-04-29T16:08:27Z</td>\n",
       "      <td>2016-04-29T00:00:00Z</td>\n",
       "      <td>56</td>\n",
       "      <td>JARDIM DA PENHA</td>\n",
       "      <td>0</td>\n",
       "      <td>0</td>\n",
       "      <td>0</td>\n",
       "      <td>0</td>\n",
       "      <td>0</td>\n",
       "      <td>0</td>\n",
       "      <td>No</td>\n",
       "    </tr>\n",
       "    <tr>\n",
       "      <th>2</th>\n",
       "      <td>4.262962e+12</td>\n",
       "      <td>5642549</td>\n",
       "      <td>F</td>\n",
       "      <td>2016-04-29T16:19:04Z</td>\n",
       "      <td>2016-04-29T00:00:00Z</td>\n",
       "      <td>62</td>\n",
       "      <td>MATA DA PRAIA</td>\n",
       "      <td>0</td>\n",
       "      <td>0</td>\n",
       "      <td>0</td>\n",
       "      <td>0</td>\n",
       "      <td>0</td>\n",
       "      <td>0</td>\n",
       "      <td>No</td>\n",
       "    </tr>\n",
       "    <tr>\n",
       "      <th>3</th>\n",
       "      <td>8.679512e+11</td>\n",
       "      <td>5642828</td>\n",
       "      <td>F</td>\n",
       "      <td>2016-04-29T17:29:31Z</td>\n",
       "      <td>2016-04-29T00:00:00Z</td>\n",
       "      <td>8</td>\n",
       "      <td>PONTAL DE CAMBURI</td>\n",
       "      <td>0</td>\n",
       "      <td>0</td>\n",
       "      <td>0</td>\n",
       "      <td>0</td>\n",
       "      <td>0</td>\n",
       "      <td>0</td>\n",
       "      <td>No</td>\n",
       "    </tr>\n",
       "    <tr>\n",
       "      <th>4</th>\n",
       "      <td>8.841186e+12</td>\n",
       "      <td>5642494</td>\n",
       "      <td>F</td>\n",
       "      <td>2016-04-29T16:07:23Z</td>\n",
       "      <td>2016-04-29T00:00:00Z</td>\n",
       "      <td>56</td>\n",
       "      <td>JARDIM DA PENHA</td>\n",
       "      <td>0</td>\n",
       "      <td>1</td>\n",
       "      <td>1</td>\n",
       "      <td>0</td>\n",
       "      <td>0</td>\n",
       "      <td>0</td>\n",
       "      <td>No</td>\n",
       "    </tr>\n",
       "  </tbody>\n",
       "</table>\n",
       "</div>"
      ],
      "text/plain": [
       "      PatientId  AppointmentID Gender          ScheduledDay  \\\n",
       "0  2.987250e+13        5642903      F  2016-04-29T18:38:08Z   \n",
       "1  5.589978e+14        5642503      M  2016-04-29T16:08:27Z   \n",
       "2  4.262962e+12        5642549      F  2016-04-29T16:19:04Z   \n",
       "3  8.679512e+11        5642828      F  2016-04-29T17:29:31Z   \n",
       "4  8.841186e+12        5642494      F  2016-04-29T16:07:23Z   \n",
       "\n",
       "         AppointmentDay  Age      Neighbourhood  Scholarship  Hipertension  \\\n",
       "0  2016-04-29T00:00:00Z   62    JARDIM DA PENHA            0             1   \n",
       "1  2016-04-29T00:00:00Z   56    JARDIM DA PENHA            0             0   \n",
       "2  2016-04-29T00:00:00Z   62      MATA DA PRAIA            0             0   \n",
       "3  2016-04-29T00:00:00Z    8  PONTAL DE CAMBURI            0             0   \n",
       "4  2016-04-29T00:00:00Z   56    JARDIM DA PENHA            0             1   \n",
       "\n",
       "   Diabetes  Alcoholism  Handcap  SMS_received No-show  \n",
       "0         0           0        0             0      No  \n",
       "1         0           0        0             0      No  \n",
       "2         0           0        0             0      No  \n",
       "3         0           0        0             0      No  \n",
       "4         1           0        0             0      No  "
      ]
     },
     "execution_count": 2,
     "metadata": {},
     "output_type": "execute_result"
    }
   ],
   "source": [
    "# load the no-show appointments dataset, and view the first 5 rows of the dataframe\n",
    "df = pd.read_csv('noshowappointments-kagglev2-may-2016.csv')\n",
    "df.head()"
   ]
  },
  {
   "cell_type": "code",
   "execution_count": 3,
   "metadata": {},
   "outputs": [
    {
     "data": {
      "text/plain": [
       "(110527, 14)"
      ]
     },
     "execution_count": 3,
     "metadata": {},
     "output_type": "execute_result"
    }
   ],
   "source": [
    "# check the shape of the data, find out how many appointments were recorded (rows), as well as the columns in the dataset\n",
    "df.shape"
   ]
  },
  {
   "cell_type": "code",
   "execution_count": 4,
   "metadata": {},
   "outputs": [
    {
     "name": "stdout",
     "output_type": "stream",
     "text": [
      "<class 'pandas.core.frame.DataFrame'>\n",
      "RangeIndex: 110527 entries, 0 to 110526\n",
      "Data columns (total 14 columns):\n",
      "patientid         110527 non-null float64\n",
      "appointmentid     110527 non-null int64\n",
      "gender            110527 non-null object\n",
      "scheduledday      110527 non-null object\n",
      "appointmentday    110527 non-null object\n",
      "age               110527 non-null int64\n",
      "neighbourhood     110527 non-null object\n",
      "scholarship       110527 non-null int64\n",
      "hipertension      110527 non-null int64\n",
      "diabetes          110527 non-null int64\n",
      "alcoholism        110527 non-null int64\n",
      "handcap           110527 non-null int64\n",
      "sms_received      110527 non-null int64\n",
      "no_show           110527 non-null object\n",
      "dtypes: float64(1), int64(8), object(5)\n",
      "memory usage: 11.8+ MB\n"
     ]
    }
   ],
   "source": [
    "# to check out the datatypyes and the presence of missing values (null values), using the info syntax. For easy access,\n",
    "# rename all the columns into lower cases, and replace the hyphens with underscores.\n",
    "df.rename(columns=lambda x: x.strip().lower().replace(\"-\",\"_\"), inplace=True)\n",
    "df.info()"
   ]
  },
  {
   "cell_type": "markdown",
   "metadata": {},
   "source": [
    "> The info syntax shows that there are no missing values in the columns. However, the Scheduled Day and the Appointment Day columns are in the wrong datatype, so It is converted to the datetime format. Also, the patientid and appointmentid are in a wrong datattype as well, as the id are string values that identify the patient. The columns containing the illness and disability too should be string values to identify the disease of the patient. The 'no_show' column is converted to boolean, as it can only have two possible results (i.e true or false)"
   ]
  },
  {
   "cell_type": "code",
   "execution_count": 5,
   "metadata": {},
   "outputs": [],
   "source": [
    "# converting the Scheduled Day and the Appointment Day columns to the datetime format\n",
    "df['scheduledday'] = pd.to_datetime(df['scheduledday'])\n",
    "df['appointmentday'] = pd.to_datetime(df['appointmentday'])"
   ]
  },
  {
   "cell_type": "code",
   "execution_count": 6,
   "metadata": {},
   "outputs": [],
   "source": [
    "# converting the patientid and appointmentid to string format\n",
    "df['patientid'] = df['patientid'].astype('str')\n",
    "df['appointmentid'] = df['appointmentid'].astype('str')"
   ]
  },
  {
   "cell_type": "code",
   "execution_count": 7,
   "metadata": {},
   "outputs": [],
   "source": [
    "# converting columns of illness and disability to string format\n",
    "df['hipertension'] = df['hipertension'].astype('str')\n",
    "df['diabetes'] = df['diabetes'].astype('str')\n",
    "df['alcoholism'] = df['alcoholism'].astype('str')\n",
    "df['handcap'] = df['handcap'].astype('str')"
   ]
  },
  {
   "cell_type": "code",
   "execution_count": 8,
   "metadata": {
    "scrolled": true
   },
   "outputs": [
    {
     "data": {
      "text/plain": [
       "patientid                 object\n",
       "appointmentid             object\n",
       "gender                    object\n",
       "scheduledday      datetime64[ns]\n",
       "appointmentday    datetime64[ns]\n",
       "age                        int64\n",
       "neighbourhood             object\n",
       "scholarship                int64\n",
       "hipertension              object\n",
       "diabetes                  object\n",
       "alcoholism                object\n",
       "handcap                   object\n",
       "sms_received               int64\n",
       "no_show                   object\n",
       "dtype: object"
      ]
     },
     "execution_count": 8,
     "metadata": {},
     "output_type": "execute_result"
    }
   ],
   "source": [
    "# to check the datatypes again using the .dtypes syntax.\n",
    "df.dtypes"
   ]
  },
  {
   "cell_type": "code",
   "execution_count": 9,
   "metadata": {},
   "outputs": [],
   "source": [
    "# to convert the 'Yes' to value 0 and the 'No' to value 1, rename no_show to show, and then convert the column to boolean,\n",
    "df = df.replace(to_replace=\"No\",value=\"1\") # they showed up\n",
    "df = df.replace(to_replace=\"Yes\",value=\"0\") # they did not show up\n",
    "df['no_show'] = df['no_show'].astype(int)\n",
    "df.rename(columns={'no_show':'show'}, inplace=True)"
   ]
  },
  {
   "cell_type": "code",
   "execution_count": 10,
   "metadata": {},
   "outputs": [
    {
     "data": {
      "text/html": [
       "<div>\n",
       "<style scoped>\n",
       "    .dataframe tbody tr th:only-of-type {\n",
       "        vertical-align: middle;\n",
       "    }\n",
       "\n",
       "    .dataframe tbody tr th {\n",
       "        vertical-align: top;\n",
       "    }\n",
       "\n",
       "    .dataframe thead th {\n",
       "        text-align: right;\n",
       "    }\n",
       "</style>\n",
       "<table border=\"1\" class=\"dataframe\">\n",
       "  <thead>\n",
       "    <tr style=\"text-align: right;\">\n",
       "      <th></th>\n",
       "      <th>patientid</th>\n",
       "      <th>appointmentid</th>\n",
       "      <th>gender</th>\n",
       "      <th>scheduledday</th>\n",
       "      <th>appointmentday</th>\n",
       "      <th>age</th>\n",
       "      <th>neighbourhood</th>\n",
       "      <th>scholarship</th>\n",
       "      <th>hipertension</th>\n",
       "      <th>diabetes</th>\n",
       "      <th>alcoholism</th>\n",
       "      <th>handcap</th>\n",
       "      <th>sms_received</th>\n",
       "      <th>show</th>\n",
       "    </tr>\n",
       "  </thead>\n",
       "  <tbody>\n",
       "    <tr>\n",
       "      <th>0</th>\n",
       "      <td>2.98724998243e+13</td>\n",
       "      <td>5642903</td>\n",
       "      <td>F</td>\n",
       "      <td>2016-04-29 18:38:08</td>\n",
       "      <td>2016-04-29</td>\n",
       "      <td>62</td>\n",
       "      <td>JARDIM DA PENHA</td>\n",
       "      <td>0</td>\n",
       "      <td>1</td>\n",
       "      <td>0</td>\n",
       "      <td>0</td>\n",
       "      <td>0</td>\n",
       "      <td>0</td>\n",
       "      <td>1</td>\n",
       "    </tr>\n",
       "    <tr>\n",
       "      <th>1</th>\n",
       "      <td>5.58997776694e+14</td>\n",
       "      <td>5642503</td>\n",
       "      <td>M</td>\n",
       "      <td>2016-04-29 16:08:27</td>\n",
       "      <td>2016-04-29</td>\n",
       "      <td>56</td>\n",
       "      <td>JARDIM DA PENHA</td>\n",
       "      <td>0</td>\n",
       "      <td>0</td>\n",
       "      <td>0</td>\n",
       "      <td>0</td>\n",
       "      <td>0</td>\n",
       "      <td>0</td>\n",
       "      <td>1</td>\n",
       "    </tr>\n",
       "    <tr>\n",
       "      <th>2</th>\n",
       "      <td>4.26296229995e+12</td>\n",
       "      <td>5642549</td>\n",
       "      <td>F</td>\n",
       "      <td>2016-04-29 16:19:04</td>\n",
       "      <td>2016-04-29</td>\n",
       "      <td>62</td>\n",
       "      <td>MATA DA PRAIA</td>\n",
       "      <td>0</td>\n",
       "      <td>0</td>\n",
       "      <td>0</td>\n",
       "      <td>0</td>\n",
       "      <td>0</td>\n",
       "      <td>0</td>\n",
       "      <td>1</td>\n",
       "    </tr>\n",
       "    <tr>\n",
       "      <th>3</th>\n",
       "      <td>867951213174.0</td>\n",
       "      <td>5642828</td>\n",
       "      <td>F</td>\n",
       "      <td>2016-04-29 17:29:31</td>\n",
       "      <td>2016-04-29</td>\n",
       "      <td>8</td>\n",
       "      <td>PONTAL DE CAMBURI</td>\n",
       "      <td>0</td>\n",
       "      <td>0</td>\n",
       "      <td>0</td>\n",
       "      <td>0</td>\n",
       "      <td>0</td>\n",
       "      <td>0</td>\n",
       "      <td>1</td>\n",
       "    </tr>\n",
       "    <tr>\n",
       "      <th>4</th>\n",
       "      <td>8.84118644818e+12</td>\n",
       "      <td>5642494</td>\n",
       "      <td>F</td>\n",
       "      <td>2016-04-29 16:07:23</td>\n",
       "      <td>2016-04-29</td>\n",
       "      <td>56</td>\n",
       "      <td>JARDIM DA PENHA</td>\n",
       "      <td>0</td>\n",
       "      <td>1</td>\n",
       "      <td>1</td>\n",
       "      <td>0</td>\n",
       "      <td>0</td>\n",
       "      <td>0</td>\n",
       "      <td>1</td>\n",
       "    </tr>\n",
       "  </tbody>\n",
       "</table>\n",
       "</div>"
      ],
      "text/plain": [
       "           patientid appointmentid gender        scheduledday appointmentday  \\\n",
       "0  2.98724998243e+13       5642903      F 2016-04-29 18:38:08     2016-04-29   \n",
       "1  5.58997776694e+14       5642503      M 2016-04-29 16:08:27     2016-04-29   \n",
       "2  4.26296229995e+12       5642549      F 2016-04-29 16:19:04     2016-04-29   \n",
       "3     867951213174.0       5642828      F 2016-04-29 17:29:31     2016-04-29   \n",
       "4  8.84118644818e+12       5642494      F 2016-04-29 16:07:23     2016-04-29   \n",
       "\n",
       "   age      neighbourhood  scholarship hipertension diabetes alcoholism  \\\n",
       "0   62    JARDIM DA PENHA            0            1        0          0   \n",
       "1   56    JARDIM DA PENHA            0            0        0          0   \n",
       "2   62      MATA DA PRAIA            0            0        0          0   \n",
       "3    8  PONTAL DE CAMBURI            0            0        0          0   \n",
       "4   56    JARDIM DA PENHA            0            1        1          0   \n",
       "\n",
       "  handcap  sms_received  show  \n",
       "0       0             0     1  \n",
       "1       0             0     1  \n",
       "2       0             0     1  \n",
       "3       0             0     1  \n",
       "4       0             0     1  "
      ]
     },
     "execution_count": 10,
     "metadata": {},
     "output_type": "execute_result"
    }
   ],
   "source": [
    "# to check the first five rows of the modified dataframe,\n",
    "df.head()"
   ]
  },
  {
   "cell_type": "code",
   "execution_count": 11,
   "metadata": {},
   "outputs": [
    {
     "data": {
      "text/html": [
       "<div>\n",
       "<style scoped>\n",
       "    .dataframe tbody tr th:only-of-type {\n",
       "        vertical-align: middle;\n",
       "    }\n",
       "\n",
       "    .dataframe tbody tr th {\n",
       "        vertical-align: top;\n",
       "    }\n",
       "\n",
       "    .dataframe thead th {\n",
       "        text-align: right;\n",
       "    }\n",
       "</style>\n",
       "<table border=\"1\" class=\"dataframe\">\n",
       "  <thead>\n",
       "    <tr style=\"text-align: right;\">\n",
       "      <th></th>\n",
       "      <th>age</th>\n",
       "      <th>scholarship</th>\n",
       "      <th>sms_received</th>\n",
       "      <th>show</th>\n",
       "    </tr>\n",
       "  </thead>\n",
       "  <tbody>\n",
       "    <tr>\n",
       "      <th>count</th>\n",
       "      <td>110527.000000</td>\n",
       "      <td>110527.000000</td>\n",
       "      <td>110527.000000</td>\n",
       "      <td>110527.000000</td>\n",
       "    </tr>\n",
       "    <tr>\n",
       "      <th>mean</th>\n",
       "      <td>37.088874</td>\n",
       "      <td>0.098266</td>\n",
       "      <td>0.321026</td>\n",
       "      <td>0.798067</td>\n",
       "    </tr>\n",
       "    <tr>\n",
       "      <th>std</th>\n",
       "      <td>23.110205</td>\n",
       "      <td>0.297675</td>\n",
       "      <td>0.466873</td>\n",
       "      <td>0.401444</td>\n",
       "    </tr>\n",
       "    <tr>\n",
       "      <th>min</th>\n",
       "      <td>-1.000000</td>\n",
       "      <td>0.000000</td>\n",
       "      <td>0.000000</td>\n",
       "      <td>0.000000</td>\n",
       "    </tr>\n",
       "    <tr>\n",
       "      <th>25%</th>\n",
       "      <td>18.000000</td>\n",
       "      <td>0.000000</td>\n",
       "      <td>0.000000</td>\n",
       "      <td>1.000000</td>\n",
       "    </tr>\n",
       "    <tr>\n",
       "      <th>50%</th>\n",
       "      <td>37.000000</td>\n",
       "      <td>0.000000</td>\n",
       "      <td>0.000000</td>\n",
       "      <td>1.000000</td>\n",
       "    </tr>\n",
       "    <tr>\n",
       "      <th>75%</th>\n",
       "      <td>55.000000</td>\n",
       "      <td>0.000000</td>\n",
       "      <td>1.000000</td>\n",
       "      <td>1.000000</td>\n",
       "    </tr>\n",
       "    <tr>\n",
       "      <th>max</th>\n",
       "      <td>115.000000</td>\n",
       "      <td>1.000000</td>\n",
       "      <td>1.000000</td>\n",
       "      <td>1.000000</td>\n",
       "    </tr>\n",
       "  </tbody>\n",
       "</table>\n",
       "</div>"
      ],
      "text/plain": [
       "                 age    scholarship   sms_received           show\n",
       "count  110527.000000  110527.000000  110527.000000  110527.000000\n",
       "mean       37.088874       0.098266       0.321026       0.798067\n",
       "std        23.110205       0.297675       0.466873       0.401444\n",
       "min        -1.000000       0.000000       0.000000       0.000000\n",
       "25%        18.000000       0.000000       0.000000       1.000000\n",
       "50%        37.000000       0.000000       0.000000       1.000000\n",
       "75%        55.000000       0.000000       1.000000       1.000000\n",
       "max       115.000000       1.000000       1.000000       1.000000"
      ]
     },
     "execution_count": 11,
     "metadata": {},
     "output_type": "execute_result"
    }
   ],
   "source": [
    "# to check the summary statistics,\n",
    "df.describe()"
   ]
  },
  {
   "cell_type": "markdown",
   "metadata": {},
   "source": [
    "> There are some flawed values in the age column, as is depicted by the minimum age value being negative. we can check more on this flawed values."
   ]
  },
  {
   "cell_type": "code",
   "execution_count": 12,
   "metadata": {},
   "outputs": [
    {
     "data": {
      "text/html": [
       "<div>\n",
       "<style scoped>\n",
       "    .dataframe tbody tr th:only-of-type {\n",
       "        vertical-align: middle;\n",
       "    }\n",
       "\n",
       "    .dataframe tbody tr th {\n",
       "        vertical-align: top;\n",
       "    }\n",
       "\n",
       "    .dataframe thead th {\n",
       "        text-align: right;\n",
       "    }\n",
       "</style>\n",
       "<table border=\"1\" class=\"dataframe\">\n",
       "  <thead>\n",
       "    <tr style=\"text-align: right;\">\n",
       "      <th></th>\n",
       "      <th>patientid</th>\n",
       "      <th>appointmentid</th>\n",
       "      <th>gender</th>\n",
       "      <th>scheduledday</th>\n",
       "      <th>appointmentday</th>\n",
       "      <th>age</th>\n",
       "      <th>neighbourhood</th>\n",
       "      <th>scholarship</th>\n",
       "      <th>hipertension</th>\n",
       "      <th>diabetes</th>\n",
       "      <th>alcoholism</th>\n",
       "      <th>handcap</th>\n",
       "      <th>sms_received</th>\n",
       "      <th>show</th>\n",
       "    </tr>\n",
       "  </thead>\n",
       "  <tbody>\n",
       "    <tr>\n",
       "      <th>99832</th>\n",
       "      <td>4.65943158731e+14</td>\n",
       "      <td>5775010</td>\n",
       "      <td>F</td>\n",
       "      <td>2016-06-06 08:58:13</td>\n",
       "      <td>2016-06-06</td>\n",
       "      <td>-1</td>\n",
       "      <td>ROMÃO</td>\n",
       "      <td>0</td>\n",
       "      <td>0</td>\n",
       "      <td>0</td>\n",
       "      <td>0</td>\n",
       "      <td>0</td>\n",
       "      <td>0</td>\n",
       "      <td>1</td>\n",
       "    </tr>\n",
       "    <tr>\n",
       "      <th>34218</th>\n",
       "      <td>3.46943128195e+12</td>\n",
       "      <td>5649465</td>\n",
       "      <td>F</td>\n",
       "      <td>2016-05-03 06:57:26</td>\n",
       "      <td>2016-05-09</td>\n",
       "      <td>0</td>\n",
       "      <td>REDENÇÃO</td>\n",
       "      <td>0</td>\n",
       "      <td>0</td>\n",
       "      <td>0</td>\n",
       "      <td>0</td>\n",
       "      <td>0</td>\n",
       "      <td>0</td>\n",
       "      <td>0</td>\n",
       "    </tr>\n",
       "    <tr>\n",
       "      <th>102834</th>\n",
       "      <td>48826747693.0</td>\n",
       "      <td>5659726</td>\n",
       "      <td>F</td>\n",
       "      <td>2016-05-04 14:35:59</td>\n",
       "      <td>2016-06-01</td>\n",
       "      <td>0</td>\n",
       "      <td>MARUÍPE</td>\n",
       "      <td>0</td>\n",
       "      <td>0</td>\n",
       "      <td>0</td>\n",
       "      <td>0</td>\n",
       "      <td>0</td>\n",
       "      <td>1</td>\n",
       "      <td>1</td>\n",
       "    </tr>\n",
       "    <tr>\n",
       "      <th>102832</th>\n",
       "      <td>9.72684614837e+12</td>\n",
       "      <td>5749887</td>\n",
       "      <td>F</td>\n",
       "      <td>2016-05-31 08:19:38</td>\n",
       "      <td>2016-06-01</td>\n",
       "      <td>0</td>\n",
       "      <td>MARUÍPE</td>\n",
       "      <td>0</td>\n",
       "      <td>0</td>\n",
       "      <td>0</td>\n",
       "      <td>0</td>\n",
       "      <td>0</td>\n",
       "      <td>0</td>\n",
       "      <td>1</td>\n",
       "    </tr>\n",
       "    <tr>\n",
       "      <th>102830</th>\n",
       "      <td>2.84528967842e+13</td>\n",
       "      <td>5664173</td>\n",
       "      <td>M</td>\n",
       "      <td>2016-05-05 11:24:09</td>\n",
       "      <td>2016-06-08</td>\n",
       "      <td>0</td>\n",
       "      <td>SÃO CRISTÓVÃO</td>\n",
       "      <td>0</td>\n",
       "      <td>0</td>\n",
       "      <td>0</td>\n",
       "      <td>0</td>\n",
       "      <td>0</td>\n",
       "      <td>1</td>\n",
       "      <td>1</td>\n",
       "    </tr>\n",
       "  </tbody>\n",
       "</table>\n",
       "</div>"
      ],
      "text/plain": [
       "                patientid appointmentid gender        scheduledday  \\\n",
       "99832   4.65943158731e+14       5775010      F 2016-06-06 08:58:13   \n",
       "34218   3.46943128195e+12       5649465      F 2016-05-03 06:57:26   \n",
       "102834      48826747693.0       5659726      F 2016-05-04 14:35:59   \n",
       "102832  9.72684614837e+12       5749887      F 2016-05-31 08:19:38   \n",
       "102830  2.84528967842e+13       5664173      M 2016-05-05 11:24:09   \n",
       "\n",
       "       appointmentday  age  neighbourhood  scholarship hipertension diabetes  \\\n",
       "99832      2016-06-06   -1          ROMÃO            0            0        0   \n",
       "34218      2016-05-09    0       REDENÇÃO            0            0        0   \n",
       "102834     2016-06-01    0        MARUÍPE            0            0        0   \n",
       "102832     2016-06-01    0        MARUÍPE            0            0        0   \n",
       "102830     2016-06-08    0  SÃO CRISTÓVÃO            0            0        0   \n",
       "\n",
       "       alcoholism handcap  sms_received  show  \n",
       "99832           0       0             0     1  \n",
       "34218           0       0             0     0  \n",
       "102834          0       0             1     1  \n",
       "102832          0       0             0     1  \n",
       "102830          0       0             1     1  "
      ]
     },
     "execution_count": 12,
     "metadata": {},
     "output_type": "execute_result"
    }
   ],
   "source": [
    "# to view the dataframe in ascending order of the age column,\n",
    "df.sort_values(['age']).head()"
   ]
  },
  {
   "cell_type": "markdown",
   "metadata": {},
   "source": [
    "### Data Cleaning\n",
    "Both the data set and the summary statistics above show some flaws within the dataset:\n",
    "<li> 1. The appointmentid column is unneccessary for this dataset, as it only contains generated tags for the patients.\n",
    "<li> 2. There are negative and zero age values within the dataset.\n",
    "<li> 3. There is need to combine the various illnesses and disability into one single column that would contain them. This would allow us access all illnesses and disability without fear of omissions.\n",
    "<li> 4. There are also some columns with misspelt names."
   ]
  },
  {
   "cell_type": "code",
   "execution_count": 13,
   "metadata": {},
   "outputs": [],
   "source": [
    "# drop the appointmentid column\n",
    "df.drop(columns=['appointmentid'], inplace=True)"
   ]
  },
  {
   "cell_type": "code",
   "execution_count": 14,
   "metadata": {},
   "outputs": [],
   "source": [
    "# replace negative and zero age by the mean of the age column\n",
    "age_mean = df['age'].mean()\n",
    "for index , age_value in df.iterrows():\n",
    "    if age_value['age']<1:\n",
    "        df.loc[index, 'age']= age_mean"
   ]
  },
  {
   "cell_type": "code",
   "execution_count": 15,
   "metadata": {},
   "outputs": [
    {
     "data": {
      "text/html": [
       "<div>\n",
       "<style scoped>\n",
       "    .dataframe tbody tr th:only-of-type {\n",
       "        vertical-align: middle;\n",
       "    }\n",
       "\n",
       "    .dataframe tbody tr th {\n",
       "        vertical-align: top;\n",
       "    }\n",
       "\n",
       "    .dataframe thead th {\n",
       "        text-align: right;\n",
       "    }\n",
       "</style>\n",
       "<table border=\"1\" class=\"dataframe\">\n",
       "  <thead>\n",
       "    <tr style=\"text-align: right;\">\n",
       "      <th></th>\n",
       "      <th>age</th>\n",
       "      <th>scholarship</th>\n",
       "      <th>sms_received</th>\n",
       "      <th>show</th>\n",
       "    </tr>\n",
       "  </thead>\n",
       "  <tbody>\n",
       "    <tr>\n",
       "      <th>count</th>\n",
       "      <td>110527.000000</td>\n",
       "      <td>110527.000000</td>\n",
       "      <td>110527.000000</td>\n",
       "      <td>110527.000000</td>\n",
       "    </tr>\n",
       "    <tr>\n",
       "      <th>mean</th>\n",
       "      <td>38.276780</td>\n",
       "      <td>0.098266</td>\n",
       "      <td>0.321026</td>\n",
       "      <td>0.798067</td>\n",
       "    </tr>\n",
       "    <tr>\n",
       "      <th>std</th>\n",
       "      <td>22.104561</td>\n",
       "      <td>0.297675</td>\n",
       "      <td>0.466873</td>\n",
       "      <td>0.401444</td>\n",
       "    </tr>\n",
       "    <tr>\n",
       "      <th>min</th>\n",
       "      <td>1.000000</td>\n",
       "      <td>0.000000</td>\n",
       "      <td>0.000000</td>\n",
       "      <td>0.000000</td>\n",
       "    </tr>\n",
       "    <tr>\n",
       "      <th>25%</th>\n",
       "      <td>20.000000</td>\n",
       "      <td>0.000000</td>\n",
       "      <td>0.000000</td>\n",
       "      <td>1.000000</td>\n",
       "    </tr>\n",
       "    <tr>\n",
       "      <th>50%</th>\n",
       "      <td>37.088874</td>\n",
       "      <td>0.000000</td>\n",
       "      <td>0.000000</td>\n",
       "      <td>1.000000</td>\n",
       "    </tr>\n",
       "    <tr>\n",
       "      <th>75%</th>\n",
       "      <td>55.000000</td>\n",
       "      <td>0.000000</td>\n",
       "      <td>1.000000</td>\n",
       "      <td>1.000000</td>\n",
       "    </tr>\n",
       "    <tr>\n",
       "      <th>max</th>\n",
       "      <td>115.000000</td>\n",
       "      <td>1.000000</td>\n",
       "      <td>1.000000</td>\n",
       "      <td>1.000000</td>\n",
       "    </tr>\n",
       "  </tbody>\n",
       "</table>\n",
       "</div>"
      ],
      "text/plain": [
       "                 age    scholarship   sms_received           show\n",
       "count  110527.000000  110527.000000  110527.000000  110527.000000\n",
       "mean       38.276780       0.098266       0.321026       0.798067\n",
       "std        22.104561       0.297675       0.466873       0.401444\n",
       "min         1.000000       0.000000       0.000000       0.000000\n",
       "25%        20.000000       0.000000       0.000000       1.000000\n",
       "50%        37.088874       0.000000       0.000000       1.000000\n",
       "75%        55.000000       0.000000       1.000000       1.000000\n",
       "max       115.000000       1.000000       1.000000       1.000000"
      ]
     },
     "execution_count": 15,
     "metadata": {},
     "output_type": "execute_result"
    }
   ],
   "source": [
    "# Running the summary statistics again,\n",
    "df.describe()"
   ]
  },
  {
   "cell_type": "code",
   "execution_count": 16,
   "metadata": {},
   "outputs": [
    {
     "data": {
      "text/plain": [
       "(110527, 13)"
      ]
     },
     "execution_count": 16,
     "metadata": {},
     "output_type": "execute_result"
    }
   ],
   "source": [
    "# to check the shape of the modified data,\n",
    "df.shape"
   ]
  },
  {
   "cell_type": "code",
   "execution_count": 17,
   "metadata": {},
   "outputs": [],
   "source": [
    "# renaming the hipertension and handcap columns\n",
    "df.rename(columns={'hipertension':'hypertension'}, inplace=True)\n",
    "df.rename(columns={'handcap':'handicap'}, inplace=True)"
   ]
  },
  {
   "cell_type": "code",
   "execution_count": 18,
   "metadata": {},
   "outputs": [],
   "source": [
    "# to replace the numbers with the names of the ailment\n",
    "combining_columns = ['hypertension', 'diabetes', 'alcoholism', 'handicap']\n",
    "x = ['1', '2', '3', '4']\n",
    "for column in combining_columns:\n",
    "    df[column] = df[column].replace('0', '')\n",
    "    df[column] = df[column].replace(x, ' ' + column)"
   ]
  },
  {
   "cell_type": "code",
   "execution_count": 19,
   "metadata": {},
   "outputs": [],
   "source": [
    "# to combine the hypertension, diabetes, alcoholism and handicap columns into one column, called ailment\n",
    "df['ailment']= df['hypertension'] + df['diabetes'] + df['alcoholism'] + df['handicap']\n",
    "df['ailment']= df['ailment'].str.lower().map(lambda x: x.strip().replace(' ','/'))"
   ]
  },
  {
   "cell_type": "code",
   "execution_count": 20,
   "metadata": {},
   "outputs": [],
   "source": [
    "# drop the hypertension diabetes, alcoholism and handicap columns, since they've been combined into the ailment column\n",
    "df.drop(columns=['hypertension', 'diabetes', 'alcoholism', 'handicap'], inplace=True)"
   ]
  },
  {
   "cell_type": "code",
   "execution_count": 21,
   "metadata": {},
   "outputs": [],
   "source": [
    "# to replace the blank values in the ailment column with None, to signify no ailment,\n",
    "df['ailment'] = df['ailment'].replace('', 'None')"
   ]
  },
  {
   "cell_type": "code",
   "execution_count": 22,
   "metadata": {},
   "outputs": [
    {
     "data": {
      "text/plain": [
       "618"
      ]
     },
     "execution_count": 22,
     "metadata": {},
     "output_type": "execute_result"
    }
   ],
   "source": [
    "# check for duplicate rows,\n",
    "df.duplicated().sum()"
   ]
  },
  {
   "cell_type": "code",
   "execution_count": 23,
   "metadata": {},
   "outputs": [],
   "source": [
    "# drop duplicate rows,\n",
    "df.drop_duplicates(inplace=True)"
   ]
  },
  {
   "cell_type": "code",
   "execution_count": 24,
   "metadata": {},
   "outputs": [
    {
     "name": "stdout",
     "output_type": "stream",
     "text": [
      "0\n",
      "(109909, 10)\n",
      "                 age    scholarship   sms_received           show\n",
      "count  109909.000000  109909.000000  109909.000000  109909.000000\n",
      "mean       38.278019       0.098281       0.322831       0.798879\n",
      "std        22.113239       0.297696       0.467561       0.400840\n",
      "min         1.000000       0.000000       0.000000       0.000000\n",
      "25%        20.000000       0.000000       0.000000       1.000000\n",
      "50%        37.088874       0.000000       0.000000       1.000000\n",
      "75%        55.000000       0.000000       1.000000       1.000000\n",
      "max       115.000000       1.000000       1.000000       1.000000\n"
     ]
    },
    {
     "data": {
      "text/html": [
       "<div>\n",
       "<style scoped>\n",
       "    .dataframe tbody tr th:only-of-type {\n",
       "        vertical-align: middle;\n",
       "    }\n",
       "\n",
       "    .dataframe tbody tr th {\n",
       "        vertical-align: top;\n",
       "    }\n",
       "\n",
       "    .dataframe thead th {\n",
       "        text-align: right;\n",
       "    }\n",
       "</style>\n",
       "<table border=\"1\" class=\"dataframe\">\n",
       "  <thead>\n",
       "    <tr style=\"text-align: right;\">\n",
       "      <th></th>\n",
       "      <th>patientid</th>\n",
       "      <th>gender</th>\n",
       "      <th>scheduledday</th>\n",
       "      <th>appointmentday</th>\n",
       "      <th>age</th>\n",
       "      <th>neighbourhood</th>\n",
       "      <th>scholarship</th>\n",
       "      <th>sms_received</th>\n",
       "      <th>show</th>\n",
       "      <th>ailment</th>\n",
       "    </tr>\n",
       "  </thead>\n",
       "  <tbody>\n",
       "    <tr>\n",
       "      <th>0</th>\n",
       "      <td>2.98724998243e+13</td>\n",
       "      <td>F</td>\n",
       "      <td>2016-04-29 18:38:08</td>\n",
       "      <td>2016-04-29</td>\n",
       "      <td>62.0</td>\n",
       "      <td>JARDIM DA PENHA</td>\n",
       "      <td>0</td>\n",
       "      <td>0</td>\n",
       "      <td>1</td>\n",
       "      <td>hypertension</td>\n",
       "    </tr>\n",
       "    <tr>\n",
       "      <th>1</th>\n",
       "      <td>5.58997776694e+14</td>\n",
       "      <td>M</td>\n",
       "      <td>2016-04-29 16:08:27</td>\n",
       "      <td>2016-04-29</td>\n",
       "      <td>56.0</td>\n",
       "      <td>JARDIM DA PENHA</td>\n",
       "      <td>0</td>\n",
       "      <td>0</td>\n",
       "      <td>1</td>\n",
       "      <td>None</td>\n",
       "    </tr>\n",
       "    <tr>\n",
       "      <th>2</th>\n",
       "      <td>4.26296229995e+12</td>\n",
       "      <td>F</td>\n",
       "      <td>2016-04-29 16:19:04</td>\n",
       "      <td>2016-04-29</td>\n",
       "      <td>62.0</td>\n",
       "      <td>MATA DA PRAIA</td>\n",
       "      <td>0</td>\n",
       "      <td>0</td>\n",
       "      <td>1</td>\n",
       "      <td>None</td>\n",
       "    </tr>\n",
       "    <tr>\n",
       "      <th>3</th>\n",
       "      <td>867951213174.0</td>\n",
       "      <td>F</td>\n",
       "      <td>2016-04-29 17:29:31</td>\n",
       "      <td>2016-04-29</td>\n",
       "      <td>8.0</td>\n",
       "      <td>PONTAL DE CAMBURI</td>\n",
       "      <td>0</td>\n",
       "      <td>0</td>\n",
       "      <td>1</td>\n",
       "      <td>None</td>\n",
       "    </tr>\n",
       "    <tr>\n",
       "      <th>4</th>\n",
       "      <td>8.84118644818e+12</td>\n",
       "      <td>F</td>\n",
       "      <td>2016-04-29 16:07:23</td>\n",
       "      <td>2016-04-29</td>\n",
       "      <td>56.0</td>\n",
       "      <td>JARDIM DA PENHA</td>\n",
       "      <td>0</td>\n",
       "      <td>0</td>\n",
       "      <td>1</td>\n",
       "      <td>hypertension/diabetes</td>\n",
       "    </tr>\n",
       "  </tbody>\n",
       "</table>\n",
       "</div>"
      ],
      "text/plain": [
       "           patientid gender        scheduledday appointmentday   age  \\\n",
       "0  2.98724998243e+13      F 2016-04-29 18:38:08     2016-04-29  62.0   \n",
       "1  5.58997776694e+14      M 2016-04-29 16:08:27     2016-04-29  56.0   \n",
       "2  4.26296229995e+12      F 2016-04-29 16:19:04     2016-04-29  62.0   \n",
       "3     867951213174.0      F 2016-04-29 17:29:31     2016-04-29   8.0   \n",
       "4  8.84118644818e+12      F 2016-04-29 16:07:23     2016-04-29  56.0   \n",
       "\n",
       "       neighbourhood  scholarship  sms_received  show                ailment  \n",
       "0    JARDIM DA PENHA            0             0     1           hypertension  \n",
       "1    JARDIM DA PENHA            0             0     1                   None  \n",
       "2      MATA DA PRAIA            0             0     1                   None  \n",
       "3  PONTAL DE CAMBURI            0             0     1                   None  \n",
       "4    JARDIM DA PENHA            0             0     1  hypertension/diabetes  "
      ]
     },
     "execution_count": 24,
     "metadata": {},
     "output_type": "execute_result"
    }
   ],
   "source": [
    "# check if there are still duplicates left, check shape of the data set, and check summary statistics\n",
    "print(df.duplicated().sum())\n",
    "print(df.shape)\n",
    "print(df.describe())\n",
    "df.head()"
   ]
  },
  {
   "cell_type": "markdown",
   "metadata": {},
   "source": [
    "<a id='eda'></a>\n",
    "## Exploratory Data Analysis\n",
    "\n",
    "> The research work seeks to analyse the Medical Appointment Data, based on information gotten from a hundred thousand (100,000) medical appointments in Brazil, as well as based on the exploration of six critical questions, with complete focus on determining whether or not patients showed up for their appointments."
   ]
  },
  {
   "cell_type": "code",
   "execution_count": 25,
   "metadata": {},
   "outputs": [],
   "source": [
    "# create a mask for the show column,\n",
    "showed = df['show']==True # patients that showed up for their appointment (i.e show = 1).\n",
    "missed = df['show']==False # patients that did not show up for their appointment (i.e. show = 0)."
   ]
  },
  {
   "cell_type": "code",
   "execution_count": 26,
   "metadata": {},
   "outputs": [],
   "source": [
    "# create general function for bar chart. this bar chart function will serve for some of the bar chart within the\n",
    "# exploratory data analysis (EDA),\n",
    "def plot_bar(y, ticks, labels):\n",
    "    x = list(np.arange(len(y)))\n",
    "    plt.bar(x, y, tick_label = ticks)\n",
    "    plt.xlabel(labels[0])\n",
    "    plt.ylabel(labels[1])"
   ]
  },
  {
   "cell_type": "code",
   "execution_count": 27,
   "metadata": {},
   "outputs": [],
   "source": [
    "# create function for bar chart with percentages. this bar chart function will serve for the bar charts within the EDA that carry percentages,\n",
    "def plot_bar_percent(y, ticks, labels):\n",
    "    x = list(np.arange(len(y)))\n",
    "    plt.bar(x, y, tick_label = ticks)\n",
    "    plt.xlabel(labels[0])\n",
    "    plt.ylabel(labels[1])\n",
    "    for xx,yy in zip(x,y):\n",
    "        plt.text(xx, yy-20, str(yy)+'%', va='center', ha='center', color='white', weight='bold');"
   ]
  },
  {
   "cell_type": "code",
   "execution_count": 28,
   "metadata": {},
   "outputs": [],
   "source": [
    "# create function for bar chart, that will serve for the bar charts within the EDA for grouped columns,\n",
    "def plot_bar_group(y, ticks, labels):\n",
    "    y.plot(kind='bar').set_xticklabels(label)\n",
    "    plt.xlabel(labels[0])\n",
    "    plt.ylabel(labels[1]);"
   ]
  },
  {
   "cell_type": "code",
   "execution_count": 29,
   "metadata": {},
   "outputs": [],
   "source": [
    "# create function for bar chart, that will serve for charts within the EDA for variables in stacked bars,\n",
    "def plot_stacked_bar(x, y, labels):\n",
    "    x.plot(kind='bar', alpha=0.5, figsize=(20,8), color='blue', label='Showed Up')\n",
    "    y.plot(kind='bar', alpha=0.5, figsize=(20,8), color='red', label='Showed Up')\n",
    "    plt.xlabel(labels[0], fontsize = 20)\n",
    "    plt.ylabel(labels[1], fontsize = 20)\n",
    "    plt.legend();"
   ]
  },
  {
   "cell_type": "markdown",
   "metadata": {},
   "source": [
    "### Research Question 1 (What is the relationship between the ages of the patients and their appointments?)"
   ]
  },
  {
   "cell_type": "code",
   "execution_count": 30,
   "metadata": {},
   "outputs": [
    {
     "data": {
      "text/plain": [
       "count    109909.000000\n",
       "mean         38.278019\n",
       "std          22.113239\n",
       "min           1.000000\n",
       "25%          20.000000\n",
       "50%          37.088874\n",
       "75%          55.000000\n",
       "max         115.000000\n",
       "Name: age, dtype: float64"
      ]
     },
     "execution_count": 30,
     "metadata": {},
     "output_type": "execute_result"
    }
   ],
   "source": [
    "# to verify the age ranges of the patients that scheduled appointments, the summary statistics is most effective\n",
    "df['age'].describe()"
   ]
  },
  {
   "cell_type": "markdown",
   "metadata": {},
   "source": [
    "> From the output above, there are 109909 age values, with the minimum age being 1 year and the maximum age being 115 years. Going forward, we can look at the distribution of the ages."
   ]
  },
  {
   "cell_type": "code",
   "execution_count": 31,
   "metadata": {},
   "outputs": [
    {
     "data": {
      "image/png": "[encoded data removed]",
      "text/plain": [
       "<matplotlib.figure.Figure at 0x7f2b1b78b2b0>"
      ]
     },
     "metadata": {
      "needs_background": "light"
     },
     "output_type": "display_data"
    }
   ],
   "source": [
    "df['age'].hist();"
   ]
  },
  {
   "cell_type": "markdown",
   "metadata": {},
   "source": [
    "> The Histogram above shows that there were more appointments scheduled by patients that were 60 or younger. we can also discuss and visualise the relationship between the ages and the appointments."
   ]
  },
  {
   "cell_type": "code",
   "execution_count": 32,
   "metadata": {},
   "outputs": [
    {
     "data": {
      "text/plain": [
       "(39.015549301204516, 35.348451662459212)"
      ]
     },
     "execution_count": 32,
     "metadata": {},
     "output_type": "execute_result"
    }
   ],
   "source": [
    "# to deduce the average ages for the patients that showed up and those that did not show up for their appointments\n",
    "df.age[showed].mean(), df.age[missed].mean()\n"
   ]
  },
  {
   "cell_type": "markdown",
   "metadata": {},
   "source": [
    "> thus, an average age of patients that showed up for their appointments is 39, while the average age for those that did not show up is 35. This shows that there wasn't much of a difference between the ages of patients that showed up and those that missed their appointments. this can be further visualised by bar chart shown below."
   ]
  },
  {
   "cell_type": "code",
   "execution_count": 33,
   "metadata": {},
   "outputs": [
    {
     "data": {
      "image/png": "[encoded data removed]",
      "text/plain": [
       "<matplotlib.figure.Figure at 0x7f2b1af63588>"
      ]
     },
     "metadata": {
      "needs_background": "light"
     },
     "output_type": "display_data"
    }
   ],
   "source": [
    "y = [df.age[showed].mean(), df.age[missed].mean()]\n",
    "ticks = ['Showed Up', 'Did not Show']\n",
    "labels = ['Appointment Showing Ups','Average Age']\n",
    "plot_bar(y, ticks, labels)\n",
    "plt.title('Average Age of Patients with respect to Appointments');"
   ]
  },
  {
   "cell_type": "code",
   "execution_count": 34,
   "metadata": {},
   "outputs": [
    {
     "data": {
      "image/png": "[encoded data removed]",
      "text/plain": [
       "<matplotlib.figure.Figure at 0x7f2b1b1620b8>"
      ]
     },
     "metadata": {
      "needs_background": "light"
     },
     "output_type": "display_data"
    }
   ],
   "source": [
    "# to plot a bar chart showing these values,\n",
    "x = [0,1]\n",
    "y = [df.age[showed].mean(), df.age[missed].mean()]\n",
    "label = ['Showed Up', 'Did not Show']\n",
    "plt.bar(x, y, tick_label=label)\n",
    "plt.xlabel('Appointment Showing Ups')\n",
    "plt.ylabel('Age')\n",
    "plt.title('Average Age of Patients with respect to Appointments');\n"
   ]
  },
  {
   "cell_type": "code",
   "execution_count": 35,
   "metadata": {},
   "outputs": [
    {
     "data": {
      "image/png": "[encoded data removed]",
      "text/plain": [
       "<matplotlib.figure.Figure at 0x7f2b1b1623c8>"
      ]
     },
     "metadata": {
      "needs_background": "light"
     },
     "output_type": "display_data"
    }
   ],
   "source": [
    "df.age[showed].hist(alpha=0.5, label='Showed Up')\n",
    "df.age[missed].hist(alpha=0.5, label='Did not Show')\n",
    "plt.legend();"
   ]
  },
  {
   "cell_type": "markdown",
   "metadata": {},
   "source": [
    "> From the Histogram above, we can infer that the patients generally showed up for their appointments more times than they missed, with the most misses coming from patients that were age 40 or lesser. Thus, older patients tend to keep their appointments more than their younger counterparts."
   ]
  },
  {
   "cell_type": "markdown",
   "metadata": {},
   "source": [
    "### Research Question 2 (What is the relationship between the gender of the patients and their appointments?)"
   ]
  },
  {
   "cell_type": "code",
   "execution_count": 36,
   "metadata": {
    "scrolled": false
   },
   "outputs": [
    {
     "data": {
      "text/plain": [
       "gender\n",
       "F    71424\n",
       "M    38485\n",
       "Name: show, dtype: int64"
      ]
     },
     "execution_count": 36,
     "metadata": {},
     "output_type": "execute_result"
    }
   ],
   "source": [
    "df.groupby('gender')['show'].count()"
   ]
  },
  {
   "cell_type": "code",
   "execution_count": 37,
   "metadata": {},
   "outputs": [
    {
     "data": {
      "image/png": "[encoded data removed]",
      "text/plain": [
       "<matplotlib.figure.Figure at 0x7f2b1b2d5780>"
      ]
     },
     "metadata": {
      "needs_background": "light"
     },
     "output_type": "display_data"
    }
   ],
   "source": [
    "df['gender'].hist();"
   ]
  },
  {
   "cell_type": "code",
   "execution_count": 38,
   "metadata": {},
   "outputs": [
    {
     "data": {
      "text/plain": [
       "gender  show\n",
       "F       0       14458\n",
       "        1       56966\n",
       "M       0        7647\n",
       "        1       30838\n",
       "Name: patientid, dtype: int64"
      ]
     },
     "execution_count": 38,
     "metadata": {},
     "output_type": "execute_result"
    }
   ],
   "source": [
    "gender_show_count = df.groupby(['gender', 'show'])['patientid'].count()\n",
    "gender_show_count.head()\n"
   ]
  },
  {
   "cell_type": "code",
   "execution_count": 39,
   "metadata": {},
   "outputs": [
    {
     "data": {
      "image/png": "[encoded data removed]",
      "text/plain": [
       "<matplotlib.figure.Figure at 0x7f2b18f20160>"
      ]
     },
     "metadata": {
      "needs_background": "light"
     },
     "output_type": "display_data"
    }
   ],
   "source": [
    "y = gender_show_count\n",
    "ticks = ['Females that Did not Show Up', 'Females that Showed Up', 'Males that Did not Show Up', 'Males that Showed Up']\n",
    "labels = ['Gender Showing Ups', 'Number of Appointments']\n",
    "plot_bar_group(y, ticks, labels)\n",
    "plt.title('Number of  Appointments with respect to Gender and Showing Up');"
   ]
  },
  {
   "cell_type": "markdown",
   "metadata": {},
   "source": [
    "From the outputs and Histogram above, we can clearly infer that the appointments of female patients (71424) were more than those of male patients (38485). In fact, a large majority of the appointments for female patients and male students were still kept (56966 and 30838 respectively), as against a lesser amount of appointments that were missed by female and male patients (14458 and 7647 respectively)."
   ]
  },
  {
   "cell_type": "code",
   "execution_count": 40,
   "metadata": {},
   "outputs": [
    {
     "data": {
      "text/html": [
       "<div>\n",
       "<style scoped>\n",
       "    .dataframe tbody tr th:only-of-type {\n",
       "        vertical-align: middle;\n",
       "    }\n",
       "\n",
       "    .dataframe tbody tr th {\n",
       "        vertical-align: top;\n",
       "    }\n",
       "\n",
       "    .dataframe thead th {\n",
       "        text-align: right;\n",
       "    }\n",
       "</style>\n",
       "<table border=\"1\" class=\"dataframe\">\n",
       "  <thead>\n",
       "    <tr style=\"text-align: right;\">\n",
       "      <th></th>\n",
       "      <th>age</th>\n",
       "      <th>scholarship</th>\n",
       "      <th>sms_received</th>\n",
       "      <th>show</th>\n",
       "    </tr>\n",
       "    <tr>\n",
       "      <th>gender</th>\n",
       "      <th></th>\n",
       "      <th></th>\n",
       "      <th></th>\n",
       "      <th></th>\n",
       "    </tr>\n",
       "  </thead>\n",
       "  <tbody>\n",
       "    <tr>\n",
       "      <th>F</th>\n",
       "      <td>39.785222</td>\n",
       "      <td>0.123306</td>\n",
       "      <td>0.338850</td>\n",
       "      <td>0.797575</td>\n",
       "    </tr>\n",
       "    <tr>\n",
       "      <th>M</th>\n",
       "      <td>35.480814</td>\n",
       "      <td>0.051838</td>\n",
       "      <td>0.293101</td>\n",
       "      <td>0.801299</td>\n",
       "    </tr>\n",
       "  </tbody>\n",
       "</table>\n",
       "</div>"
      ],
      "text/plain": [
       "              age  scholarship  sms_received      show\n",
       "gender                                                \n",
       "F       39.785222     0.123306      0.338850  0.797575\n",
       "M       35.480814     0.051838      0.293101  0.801299"
      ]
     },
     "execution_count": 40,
     "metadata": {},
     "output_type": "execute_result"
    }
   ],
   "source": [
    "gender_mean = df.groupby('gender').mean()\n",
    "gender_mean"
   ]
  },
  {
   "cell_type": "code",
   "execution_count": 41,
   "metadata": {},
   "outputs": [
    {
     "data": {
      "image/png": "[encoded data removed]",
      "text/plain": [
       "<matplotlib.figure.Figure at 0x7f2b18ee3e80>"
      ]
     },
     "metadata": {
      "needs_background": "light"
     },
     "output_type": "display_data"
    }
   ],
   "source": [
    "# to plot a bar chart showing the percentages of kept appointments, with respect to gender,\n",
    "gender_percentage = (gender_mean['show']*100).round(2)\n",
    "y = gender_percentage\n",
    "ticks = ['Female', 'Male']\n",
    "labels = ['Gender','Percentages']\n",
    "plot_bar_percent(y, ticks, labels)\n",
    "plt.title('Percentages of Kept Appointments with respect to Gender');"
   ]
  },
  {
   "cell_type": "markdown",
   "metadata": {},
   "source": [
    "> Thus, we see that 79.76% of the appointments from the female patients were kept, and 80.13% from the male patients. This indicates there was no significant difference between both genders as regards to showing up for their appointments."
   ]
  },
  {
   "cell_type": "markdown",
   "metadata": {},
   "source": [
    "### Research Question 3  (Is the location of the hospital associated with the appointment?)"
   ]
  },
  {
   "cell_type": "code",
   "execution_count": 42,
   "metadata": {},
   "outputs": [
    {
     "data": {
      "text/plain": [
       "(87804, 22105)"
      ]
     },
     "execution_count": 42,
     "metadata": {},
     "output_type": "execute_result"
    }
   ],
   "source": [
    "# to show how many appointments were kept or missed by neighbourhood,\n",
    "df.neighbourhood[showed].count(), df.neighbourhood[missed].count()"
   ]
  },
  {
   "cell_type": "code",
   "execution_count": 43,
   "metadata": {},
   "outputs": [
    {
     "data": {
      "text/plain": [
       "neighbourhood    show\n",
       "AEROPORTO        0          1\n",
       "                 1          7\n",
       "ANDORINHAS       0        497\n",
       "                 1       1697\n",
       "ANTÔNIO HONÓRIO  0         50\n",
       "Name: patientid, dtype: int64"
      ]
     },
     "execution_count": 43,
     "metadata": {},
     "output_type": "execute_result"
    }
   ],
   "source": [
    "# to check the values per each neighbourhood,\n",
    "location_count = df.groupby(['neighbourhood', 'show'])['patientid'].count()\n",
    "location_count.head()"
   ]
  },
  {
   "cell_type": "code",
   "execution_count": 44,
   "metadata": {},
   "outputs": [
    {
     "data": {
      "image/png": "[encoded data removed]",
      "text/plain": [
       "<matplotlib.figure.Figure at 0x7f2b18ed40f0>"
      ]
     },
     "metadata": {
      "needs_background": "light"
     },
     "output_type": "display_data"
    }
   ],
   "source": [
    "y = [df.neighbourhood[showed].count(), df.neighbourhood[missed].count()]\n",
    "ticks = ['Showed Up', 'Did not Show']\n",
    "labels = ['Neighbourhood Showing Ups','Number of Appointments']\n",
    "plot_bar(y, ticks, labels)\n",
    "plt.title('Number of Appointments with respect to Neighbourhood');"
   ]
  },
  {
   "cell_type": "markdown",
   "metadata": {},
   "source": [
    "> From the output above, 87804 patient appointments were kept in all the neighbourhoods, while a total of 22105 appointments were missed. This shows a strong indication that the patients within these neighbourhoods had a tendency to keep their appointment schedules."
   ]
  },
  {
   "cell_type": "code",
   "execution_count": 45,
   "metadata": {},
   "outputs": [
    {
     "data": {
      "image/png": "[encoded data removed]",
      "text/plain": [
       "<matplotlib.figure.Figure at 0x7f2b18e282e8>"
      ]
     },
     "metadata": {
      "needs_background": "light"
     },
     "output_type": "display_data"
    }
   ],
   "source": [
    "x = df.neighbourhood[showed].value_counts().head(10)\n",
    "y = df.neighbourhood[missed].value_counts().head(10)\n",
    "labels = ['Neighbourhood', 'Number of Appointments']\n",
    "plot_stacked_bar(x, y, labels)\n",
    "plt.title('Top 10 Number of  Appointments with respect to the Neighbourhood', fontsize=20);"
   ]
  },
  {
   "cell_type": "markdown",
   "metadata": {},
   "source": [
    "> From the Bar Chart above, we can infer that the patients in each of the top 10 neighbourhood generally showed up for their appointments more times than they missed, with each of those neghbourhoods having more completed appointments than missed appointments."
   ]
  },
  {
   "cell_type": "markdown",
   "metadata": {},
   "source": [
    "### Research Question 4  (Do patients tend to miss their appointment when they don't receive reminders from the hospital?)"
   ]
  },
  {
   "cell_type": "code",
   "execution_count": 46,
   "metadata": {},
   "outputs": [
    {
     "data": {
      "text/plain": [
       "sms_received\n",
       "0    74427\n",
       "1    35482\n",
       "Name: patientid, dtype: int64"
      ]
     },
     "execution_count": 46,
     "metadata": {},
     "output_type": "execute_result"
    }
   ],
   "source": [
    "# to check the number of appointments with respect to sms received,\n",
    "sms_count = df.groupby('sms_received')['patientid'].count()\n",
    "sms_count"
   ]
  },
  {
   "cell_type": "code",
   "execution_count": 47,
   "metadata": {},
   "outputs": [
    {
     "data": {
      "image/png": "[encoded data removed]",
      "text/plain": [
       "<matplotlib.figure.Figure at 0x7f2b18dfe048>"
      ]
     },
     "metadata": {
      "needs_background": "light"
     },
     "output_type": "display_data"
    }
   ],
   "source": [
    "y = sms_count\n",
    "ticks = ['No SMS', 'Received SMS']\n",
    "labels = ['SMS Received', 'Number of Appointments']\n",
    "plot_bar_group(y, ticks, labels)\n",
    "plt.title('Number of  Appointments with respect to SMS Received');"
   ]
  },
  {
   "cell_type": "code",
   "execution_count": 48,
   "metadata": {},
   "outputs": [
    {
     "data": {
      "text/plain": [
       "sms_received  show\n",
       "0             0       12321\n",
       "              1       62106\n",
       "1             0        9784\n",
       "              1       25698\n",
       "Name: patientid, dtype: int64"
      ]
     },
     "execution_count": 48,
     "metadata": {},
     "output_type": "execute_result"
    }
   ],
   "source": [
    "# to check the number of appointments missed or kept, based on the sms received by the patients,\n",
    "sms_show_count = df.groupby(['sms_received', 'show'])['patientid'].count()\n",
    "sms_show_count.head()"
   ]
  },
  {
   "cell_type": "code",
   "execution_count": 49,
   "metadata": {},
   "outputs": [
    {
     "data": {
      "image/png": "[encoded data removed]",
      "text/plain": [
       "<matplotlib.figure.Figure at 0x7f2b18d539b0>"
      ]
     },
     "metadata": {
      "needs_background": "light"
     },
     "output_type": "display_data"
    }
   ],
   "source": [
    "y = sms_show_count\n",
    "ticks = ['No SMS, Did not Show', 'No SMS, Showed Up', 'Received SMS, Did not Show', 'Received SMS, Showed Up']\n",
    "labels = ['SMS Showing Ups', 'Number of Appointments']\n",
    "plot_bar_group(y, ticks, labels)\n",
    "plt.title('Number of  Appointments with respect to SMS Received and No-Show');"
   ]
  },
  {
   "cell_type": "markdown",
   "metadata": {},
   "source": [
    "> From the outputs and Bar Chart above, we can clearly infer that the appointments of patients that did not receive any sms message (74427) were more than those of patients that received the sms (35482). In fact, a large majority of the appointments (62106) for patients who didn't receive any text message were still kept, as against a lesser amount of appointments that were missed(12321)."
   ]
  },
  {
   "cell_type": "code",
   "execution_count": 50,
   "metadata": {},
   "outputs": [
    {
     "data": {
      "text/html": [
       "<div>\n",
       "<style scoped>\n",
       "    .dataframe tbody tr th:only-of-type {\n",
       "        vertical-align: middle;\n",
       "    }\n",
       "\n",
       "    .dataframe tbody tr th {\n",
       "        vertical-align: top;\n",
       "    }\n",
       "\n",
       "    .dataframe thead th {\n",
       "        text-align: right;\n",
       "    }\n",
       "</style>\n",
       "<table border=\"1\" class=\"dataframe\">\n",
       "  <thead>\n",
       "    <tr style=\"text-align: right;\">\n",
       "      <th></th>\n",
       "      <th>age</th>\n",
       "      <th>scholarship</th>\n",
       "      <th>show</th>\n",
       "    </tr>\n",
       "    <tr>\n",
       "      <th>sms_received</th>\n",
       "      <th></th>\n",
       "      <th></th>\n",
       "      <th></th>\n",
       "    </tr>\n",
       "  </thead>\n",
       "  <tbody>\n",
       "    <tr>\n",
       "      <th>0</th>\n",
       "      <td>38.195347</td>\n",
       "      <td>0.098042</td>\n",
       "      <td>0.834455</td>\n",
       "    </tr>\n",
       "    <tr>\n",
       "      <th>1</th>\n",
       "      <td>38.451432</td>\n",
       "      <td>0.098782</td>\n",
       "      <td>0.724255</td>\n",
       "    </tr>\n",
       "  </tbody>\n",
       "</table>\n",
       "</div>"
      ],
      "text/plain": [
       "                    age  scholarship      show\n",
       "sms_received                                  \n",
       "0             38.195347     0.098042  0.834455\n",
       "1             38.451432     0.098782  0.724255"
      ]
     },
     "execution_count": 50,
     "metadata": {},
     "output_type": "execute_result"
    }
   ],
   "source": [
    "# to find the average of patients who did or did not receive SMS,\n",
    "sms_mean = df.groupby('sms_received').mean()\n",
    "sms_mean"
   ]
  },
  {
   "cell_type": "code",
   "execution_count": 51,
   "metadata": {},
   "outputs": [
    {
     "data": {
      "image/png": "[encoded data removed]",
      "text/plain": [
       "<matplotlib.figure.Figure at 0x7f2b18cb8be0>"
      ]
     },
     "metadata": {
      "needs_background": "light"
     },
     "output_type": "display_data"
    }
   ],
   "source": [
    "# to plot a bar chart showing the percentages of kept appointments, with respect to the SMS received,\n",
    "sms_percentage = (sms_mean['show']*100).round(2)\n",
    "sms_percentage = (sms_mean['show']*100).round(2)\n",
    "y = sms_percentage\n",
    "ticks = ['No SMS', 'Received SMS']\n",
    "labels = ['SMS Received','Percentages']\n",
    "plot_bar_percent(y, ticks, labels)\n",
    "plt.title('Percentages of Kept Appointments with respect to SMS Received');"
   ]
  },
  {
   "cell_type": "markdown",
   "metadata": {},
   "source": [
    "> Thus, we see that 83.45% of the appointments from the patients who didn't receive SMS were kept, as against 72.43% from those who received SMS. This indicates hugely that the patients do not tend to miss their appointments even when they don't receive SMS from the hospital."
   ]
  },
  {
   "cell_type": "markdown",
   "metadata": {},
   "source": [
    "### Research Question 5 (Are patients liable to miss their appointments if they are not part of the welfare program (Bolsa Familia Scholarship)?)"
   ]
  },
  {
   "cell_type": "code",
   "execution_count": 52,
   "metadata": {},
   "outputs": [
    {
     "data": {
      "text/plain": [
       "scholarship\n",
       "0    99107\n",
       "1    10802\n",
       "Name: patientid, dtype: int64"
      ]
     },
     "execution_count": 52,
     "metadata": {},
     "output_type": "execute_result"
    }
   ],
   "source": [
    "# to check the number of appointments with respect to the Bolsa Familia Scholarship,\n",
    "scholarship_count = df.groupby('scholarship')['patientid'].count()\n",
    "scholarship_count"
   ]
  },
  {
   "cell_type": "code",
   "execution_count": 53,
   "metadata": {},
   "outputs": [
    {
     "data": {
      "image/png": "[encoded data removed]",
      "text/plain": [
       "<matplotlib.figure.Figure at 0x7f2b18c6ea20>"
      ]
     },
     "metadata": {
      "needs_background": "light"
     },
     "output_type": "display_data"
    }
   ],
   "source": [
    "y = scholarship_count\n",
    "ticks = ['No Scholarship', 'Scholarship']\n",
    "labels = ['Scholarship', 'Number of Appointments']\n",
    "plot_bar_group(y, ticks, labels)\n",
    "plt.title('Number of  Appointments with respect to the Bolsa Familia Scholarship');"
   ]
  },
  {
   "cell_type": "code",
   "execution_count": 54,
   "metadata": {},
   "outputs": [
    {
     "data": {
      "text/plain": [
       "scholarship  show\n",
       "0            0       19548\n",
       "             1       79559\n",
       "1            0        2557\n",
       "             1        8245\n",
       "Name: patientid, dtype: int64"
      ]
     },
     "execution_count": 54,
     "metadata": {},
     "output_type": "execute_result"
    }
   ],
   "source": [
    "# to check the number of appointments missed or kept, by patients who were or were not part of the welfare program,\n",
    "scholarship_show_count = df.groupby(['scholarship', 'show'])['patientid'].count()\n",
    "scholarship_show_count.head()"
   ]
  },
  {
   "cell_type": "code",
   "execution_count": 55,
   "metadata": {},
   "outputs": [
    {
     "data": {
      "image/png": "[encoded data removed]",
      "text/plain": [
       "<matplotlib.figure.Figure at 0x7f2b18c2b9e8>"
      ]
     },
     "metadata": {
      "needs_background": "light"
     },
     "output_type": "display_data"
    }
   ],
   "source": [
    "y = scholarship_show_count\n",
    "ticks = ['No Scholarship, Did not Show', 'No Scholarship, Showed Up', 'Scholarship, Did not Show', 'Scholarship, Showed Up']\n",
    "labels = ['Scholarship Showing Ups', 'Number of Appointments']\n",
    "plot_bar_group(y, ticks, labels)\n",
    "plt.title('Number of  Appointments with respect to Scholarship and No-Show');"
   ]
  },
  {
   "cell_type": "markdown",
   "metadata": {},
   "source": [
    "> From the outputs and Bar Charts above, we can clearly infer that the appointments of patients that were not part of the welfare program (99107) were more than those of patients that were part of the program (10802). In fact, a huge majority of the appointments (79559) for patients who that were not part of the welfare program were still kept, as against a lesser amount of appointments that were missed(19548)."
   ]
  },
  {
   "cell_type": "code",
   "execution_count": 56,
   "metadata": {},
   "outputs": [
    {
     "data": {
      "text/html": [
       "<div>\n",
       "<style scoped>\n",
       "    .dataframe tbody tr th:only-of-type {\n",
       "        vertical-align: middle;\n",
       "    }\n",
       "\n",
       "    .dataframe tbody tr th {\n",
       "        vertical-align: top;\n",
       "    }\n",
       "\n",
       "    .dataframe thead th {\n",
       "        text-align: right;\n",
       "    }\n",
       "</style>\n",
       "<table border=\"1\" class=\"dataframe\">\n",
       "  <thead>\n",
       "    <tr style=\"text-align: right;\">\n",
       "      <th></th>\n",
       "      <th>age</th>\n",
       "      <th>sms_received</th>\n",
       "      <th>show</th>\n",
       "    </tr>\n",
       "    <tr>\n",
       "      <th>scholarship</th>\n",
       "      <th></th>\n",
       "      <th></th>\n",
       "      <th></th>\n",
       "    </tr>\n",
       "  </thead>\n",
       "  <tbody>\n",
       "    <tr>\n",
       "      <th>0</th>\n",
       "      <td>39.094122</td>\n",
       "      <td>0.322651</td>\n",
       "      <td>0.802759</td>\n",
       "    </tr>\n",
       "    <tr>\n",
       "      <th>1</th>\n",
       "      <td>30.790374</td>\n",
       "      <td>0.324477</td>\n",
       "      <td>0.763285</td>\n",
       "    </tr>\n",
       "  </tbody>\n",
       "</table>\n",
       "</div>"
      ],
      "text/plain": [
       "                   age  sms_received      show\n",
       "scholarship                                   \n",
       "0            39.094122      0.322651  0.802759\n",
       "1            30.790374      0.324477  0.763285"
      ]
     },
     "execution_count": 56,
     "metadata": {},
     "output_type": "execute_result"
    }
   ],
   "source": [
    "# to find the average of patients who were or were not part of the welfare program,\n",
    "scholarship_mean = df.groupby('scholarship').mean()\n",
    "scholarship_mean"
   ]
  },
  {
   "cell_type": "code",
   "execution_count": 57,
   "metadata": {},
   "outputs": [
    {
     "data": {
      "image/png": "[encoded data removed]",
      "text/plain": [
       "<matplotlib.figure.Figure at 0x7f2b18bd7ac8>"
      ]
     },
     "metadata": {
      "needs_background": "light"
     },
     "output_type": "display_data"
    }
   ],
   "source": [
    "# to plot a bar chart showing the percentages of kept appointments, with respect to the Bolsa Familia Scholarship,\n",
    "scholarship_percentage = (scholarship_mean['show']*100).round(2)\n",
    "y = scholarship_percentage\n",
    "ticks = ['No Scholarship', 'Scholarship']\n",
    "labels = ['Scholarship','Percentages']\n",
    "plot_bar_percent(y, ticks, labels)\n",
    "plt.title('Percentages of Kept Appointments with respect to Scholarship');"
   ]
  },
  {
   "cell_type": "markdown",
   "metadata": {},
   "source": [
    "> Thus, we see that 80.28% of the appointments from the patients who weren't part of the scholarship were kept, as against 76.33% from those who were part of the scholarship. This indicates hugely that the patients are not liable to miss their appointments even when they aren't part of the Bolsa Familia Welfare Program."
   ]
  },
  {
   "cell_type": "markdown",
   "metadata": {},
   "source": [
    "### Research Question 6 (Is there a relationship between the patient's appointment day and them showing up for their appointments?)"
   ]
  },
  {
   "cell_type": "code",
   "execution_count": 58,
   "metadata": {},
   "outputs": [
    {
     "data": {
      "text/plain": [
       "38495"
      ]
     },
     "execution_count": 58,
     "metadata": {},
     "output_type": "execute_result"
    }
   ],
   "source": [
    "# to query the number of appointments where the scheduled day and the appointment day were same,\n",
    "same_day = df[df['scheduledday'].dt.date == df['appointmentday'].dt.date]\n",
    "same_day['patientid'].count()"
   ]
  },
  {
   "cell_type": "code",
   "execution_count": 59,
   "metadata": {},
   "outputs": [
    {
     "data": {
      "text/plain": [
       "71414"
      ]
     },
     "execution_count": 59,
     "metadata": {},
     "output_type": "execute_result"
    }
   ],
   "source": [
    "# to query the number of appointments where the scheduled day and the appointment day were different,\n",
    "diff_day = df[df['scheduledday'].dt.date != df['appointmentday'].dt.date]\n",
    "diff_day['patientid'].count()"
   ]
  },
  {
   "cell_type": "code",
   "execution_count": 60,
   "metadata": {},
   "outputs": [
    {
     "data": {
      "text/plain": [
       "0.95368229640213009"
      ]
     },
     "execution_count": 60,
     "metadata": {},
     "output_type": "execute_result"
    }
   ],
   "source": [
    "# to deduce if patients, who had their scheduled day the same day as their appointment day, kept their appointments,\n",
    "same_day_mean = same_day['show'].mean()\n",
    "same_day_mean"
   ]
  },
  {
   "cell_type": "code",
   "execution_count": 61,
   "metadata": {},
   "outputs": [
    {
     "data": {
      "text/plain": [
       "0.71543394852549924"
      ]
     },
     "execution_count": 61,
     "metadata": {},
     "output_type": "execute_result"
    }
   ],
   "source": [
    "# to deduce if patients, who had their scheduled day on a different day to their appointment day, kept their appointments,\n",
    "diff_day_mean = diff_day['show'].mean()\n",
    "diff_day_mean"
   ]
  },
  {
   "cell_type": "code",
   "execution_count": 62,
   "metadata": {},
   "outputs": [
    {
     "data": {
      "image/png": "[encoded data removed]",
      "text/plain": [
       "<matplotlib.figure.Figure at 0x7f2b18b532b0>"
      ]
     },
     "metadata": {
      "needs_background": "light"
     },
     "output_type": "display_data"
    }
   ],
   "source": [
    "# to plot a bar chart showing the percentages of kept appointments, with respect to the day of appointment,\n",
    "same_day_percentage = (same_day_mean*100).round(2)\n",
    "diff_day_percentage = (diff_day_mean*100).round(2)\n",
    "y = [same_day_percentage, diff_day_percentage]\n",
    "ticks = ['Same Day', 'Different Day']\n",
    "labels = ['Appointment w.r.t Day','Percentages']\n",
    "plot_bar_percent(y, ticks, labels)\n",
    "plt.title('Percentages of Kept Appointments with respect to Day');"
   ]
  },
  {
   "cell_type": "markdown",
   "metadata": {},
   "source": [
    "> From the outputs and chart above, 95.37% of the appointments for patients who had the same scheduled and appointment day were kept, as against 71.54% from those who their appointment on a different day from the day they scheduled. This indicates hugely that patients who had their appointments on the same day as their scheduled day were more committed to keeping their appointments than those who had their appointments on a different day."
   ]
  },
  {
   "cell_type": "markdown",
   "metadata": {},
   "source": [
    "### Research Question 7 (What is the relationship between the patient's ailment and the appointments?)"
   ]
  },
  {
   "cell_type": "code",
   "execution_count": 63,
   "metadata": {},
   "outputs": [
    {
     "data": {
      "text/plain": [
       "(87804, 22105)"
      ]
     },
     "execution_count": 63,
     "metadata": {},
     "output_type": "execute_result"
    }
   ],
   "source": [
    "# to show how many appointments were kept or missed by ailment,\n",
    "df.ailment[showed].count(), df.ailment[missed].count()"
   ]
  },
  {
   "cell_type": "code",
   "execution_count": 64,
   "metadata": {},
   "outputs": [
    {
     "name": "stdout",
     "output_type": "stream",
     "text": [
      "16\n"
     ]
    },
    {
     "data": {
      "text/plain": [
       "array(['hypertension', 'None', 'hypertension/diabetes', 'diabetes',\n",
       "       'hypertension/alcoholism', 'alcoholism', 'diabetes/alcoholism',\n",
       "       'hypertension/handicap', 'handicap',\n",
       "       'hypertension/diabetes/handicap',\n",
       "       'hypertension/diabetes/alcoholism',\n",
       "       'hypertension/alcoholism/handicap', 'diabetes/handicap',\n",
       "       'alcoholism/handicap', 'hypertension/diabetes/alcoholism/handicap',\n",
       "       'diabetes/alcoholism/handicap'], dtype=object)"
      ]
     },
     "execution_count": 64,
     "metadata": {},
     "output_type": "execute_result"
    }
   ],
   "source": [
    "# to determine how many classifications of ailments are within the ailment column,\n",
    "print(df['ailment'].nunique())\n",
    "df['ailment'].unique()"
   ]
  },
  {
   "cell_type": "code",
   "execution_count": 65,
   "metadata": {},
   "outputs": [
    {
     "data": {
      "text/plain": [
       "ailment\n",
       "None                                         83648\n",
       "alcoholism                                    1917\n",
       "alcoholism/handicap                             33\n",
       "diabetes                                      1333\n",
       "diabetes/alcoholism                             74\n",
       "diabetes/alcoholism/handicap                     1\n",
       "diabetes/handicap                               40\n",
       "handicap                                      1185\n",
       "hypertension                                 13595\n",
       "hypertension/alcoholism                       1034\n",
       "hypertension/alcoholism/handicap                29\n",
       "hypertension/diabetes                         5846\n",
       "hypertension/diabetes/alcoholism               243\n",
       "hypertension/diabetes/alcoholism/handicap       13\n",
       "hypertension/diabetes/handicap                 343\n",
       "hypertension/handicap                          575\n",
       "Name: patientid, dtype: int64"
      ]
     },
     "execution_count": 65,
     "metadata": {},
     "output_type": "execute_result"
    }
   ],
   "source": [
    "# to check the values per each ailment class,\n",
    "ailment_count = df.groupby('ailment')['patientid'].count()\n",
    "ailment_count"
   ]
  },
  {
   "cell_type": "code",
   "execution_count": 66,
   "metadata": {},
   "outputs": [
    {
     "data": {
      "image/png": "[encoded data removed]",
      "text/plain": [
       "<matplotlib.figure.Figure at 0x7f2b18b05eb8>"
      ]
     },
     "metadata": {},
     "output_type": "display_data"
    }
   ],
   "source": [
    "# to visualise the value sets in the earlier set,\n",
    "plt.pie(ailment_count, startangle=90, radius=1.7)\n",
    "plt.xlabel('')\n",
    "plt.ylabel('')\n",
    "plt.legend(df['ailment'].unique()[0:], loc=\"upper right\", bbox_to_anchor=(0.04,0.04));"
   ]
  },
  {
   "cell_type": "code",
   "execution_count": 67,
   "metadata": {},
   "outputs": [
    {
     "data": {
      "text/plain": [
       "ailment              show\n",
       "None                 0       17441\n",
       "                     1       66207\n",
       "alcoholism           0         412\n",
       "                     1        1505\n",
       "alcoholism/handicap  0           4\n",
       "Name: patientid, dtype: int64"
      ]
     },
     "execution_count": 67,
     "metadata": {},
     "output_type": "execute_result"
    }
   ],
   "source": [
    "# to check the values of appointments missed or kept, per each ailment,\n",
    "ailment_show_count = df.groupby(['ailment', 'show'])['patientid'].count()\n",
    "ailment_show_count.head()"
   ]
  },
  {
   "cell_type": "code",
   "execution_count": 68,
   "metadata": {},
   "outputs": [
    {
     "data": {
      "text/plain": [
       "ailment              show\n",
       "None                 0       15.87\n",
       "                     1       60.24\n",
       "alcoholism           0        0.37\n",
       "                     1        1.37\n",
       "alcoholism/handicap  0        0.00\n",
       "Name: patientid, dtype: float64"
      ]
     },
     "execution_count": 68,
     "metadata": {},
     "output_type": "execute_result"
    }
   ],
   "source": [
    "# to discover the percentages of each ailment count in relation to the total count,\n",
    "total_count = df.ailment.count()\n",
    "ailment_show_prop = ((ailment_show_count/total_count))\n",
    "ailment_show_percent = (ailment_show_prop*100).round(2)\n",
    "ailment_show_percent.head()"
   ]
  },
  {
   "cell_type": "code",
   "execution_count": 69,
   "metadata": {},
   "outputs": [
    {
     "data": {
      "image/png": "[encoded data removed]",
      "text/plain": [
       "<matplotlib.figure.Figure at 0x7f2b189eb208>"
      ]
     },
     "metadata": {
      "needs_background": "light"
     },
     "output_type": "display_data"
    }
   ],
   "source": [
    "x = df.ailment[showed].value_counts().head(5)\n",
    "y = df.ailment[missed].value_counts().head(5)\n",
    "labels = ['Ailment', 'Number of Appointments']\n",
    "plot_stacked_bar(x, y, labels)\n",
    "plt.title('Top 5 Number of  Appointments with respect to the Ailments', fontsize=20);"
   ]
  },
  {
   "cell_type": "markdown",
   "metadata": {},
   "source": [
    "> From the outputs, the Pie Chart and Bar Chart above, we can infer that the patients who had no recorded ailment had the highest number of appointments booked (83648), with them also showing up for most of those appointments (60.24%). In general, the patients showed up for more appointments than they missed, regardless of the ailment or ailments they faced."
   ]
  },
  {
   "cell_type": "markdown",
   "metadata": {},
   "source": [
    "<a id='conclusions'></a>\n",
    "## Conclusions\n",
    "\n",
    "The research work sought to analyse the Medical Appointment Data, based on information gotten from a hundred thousand medical appointments in Brazil. The focus was to determine whether or not patients showed up for their appointment. To acheive this, a total of seven research questions were explored and analysed, after rigourous cleanliness of the dataset.\n",
    "> For the first research question, it was realised that the age didn't necessarily imply that an appointment would be kept or missed, owing to the close values in the average ages for completed appointments and missed appointments. In the range of missed appointments, younger patients (less than 40) missed more than older patients.\n",
    "\n",
    "> For the second research queston, it was deduced that there was no significant difference between both genders as regards to showing up for their appointments. This was strengthened by the fact that 79.76% of the appointments from the female patients were kept, and 80.13% from the male patients, showing a high tendency to show up for their appointments from both genders. \n",
    "\n",
    "> For the third research question, it was realised that patients in each neighbourhood generally showed up for their appointments more times than they missed, with each of those neghbourhoods having more completed appointments than missed appointments. There was a vastly greater amount of completed appointments than missed appointments, further strengthening the fact that the location did not determine if the patients would show up for their appointments.\n",
    "\n",
    "> For the fourth research queston, it was realised that the patients do not tend to miss their appointments even when they don't receive SMS from the hospital. This was strengthened by the fact that even though most of the appointments were actually made by patients who didn't end up receiving SMS, majority of those appointments were still completed on their specific appointment days, with 83.45% appointment completion rate from these patients.\n",
    "\n",
    "> For the fifth research question, it was dicovered that there was a high percentage of completed appointments for patients both part of the scholarship or not. With 80.28% of the appointments from the patients who weren't part of the scholarship being completed, and 76.33% completed appointment percentage from those who were part of the scholarship. This indicates hugely that the patients are not liable to miss their appointments even when they aren't part of the Bolsa Familia Welfare Program.\n",
    "\n",
    "> For the sixth research question, there was a great indication that patients showed up for their appointments more if it fell on the same day as the day they scheduled the appointment. This was visualised, with 95.37% of the appointments for patients who had the same scheduled and appointment day being completed, and 71.54% from those who their appointment on a different day from the day they scheduled. This hugely supports the fact that patients who had their appointments on the same day as their scheduled day were more committed to keeping their appointments than those who had their appointments on a different day.\n",
    "\n",
    "> For the seventh research question, we discovered that the patients who had no recorded ailment had the highest number of appointments booked (83648), with them also showing up for most of the appointments in the entire dataset(60.24%). For the patients who had one ailment or the other, they still showed up for more appointments than they missed, pointing to the fact that there were no major hindrances in keeping to the appointments caused by the ailments.\n",
    "\n",
    "    \n",
    "\n",
    "The research work was analysed within the clear bounds of descriptive statistical tools including the Histogram, Pie Chart, and the Bar Chart. As such, the results are limited, since there was no further explorations through Inferential methods of hypothesis and tests.\n",
    "\n",
    "The findings of this research work was realised independently from the dataset available, and without any interaction with the patients through means of survey, questionnaires or otherwise. Thus, the findings of this research are to be considered viable based on the data available through the data set, and not based on ever evolving parameters that would arise from an interaction with the patients, the hospital staffs, the welfare program coordinators, etc.\n"
   ]
  },
  {
   "cell_type": "code",
   "execution_count": 70,
   "metadata": {},
   "outputs": [
    {
     "data": {
      "text/plain": [
       "0"
      ]
     },
     "execution_count": 70,
     "metadata": {},
     "output_type": "execute_result"
    }
   ],
   "source": [
    "from subprocess import call\n",
    "call(['python', '-m', 'nbconvert', 'Arikewuyo_Medical_Dataset.ipynb'])"
   ]
  }
 ],
 "metadata": {
  "kernelspec": {
   "display_name": "Python 3",
   "language": "python",
   "name": "python3"
  },
  "language_info": {
   "codemirror_mode": {
    "name": "ipython",
    "version": 3
   },
   "file_extension": ".py",
   "mimetype": "text/x-python",
   "name": "python",
   "nbconvert_exporter": "python",
   "pygments_lexer": "ipython3",
   "version": "3.6.3"
  }
 },
 "nbformat": 4,
 "nbformat_minor": 2
}
